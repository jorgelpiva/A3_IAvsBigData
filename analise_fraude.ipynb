{
 "cells": [
  {
   "cell_type": "code",
   "execution_count": 1,
   "metadata": {},
   "outputs": [],
   "source": [
    "import pandas as pd \n",
    "import matplotlib.pyplot as plt\n",
    "import matplotlib.ticker as ticker"
   ]
  },
  {
   "cell_type": "code",
   "execution_count": 2,
   "metadata": {},
   "outputs": [],
   "source": [
    "pd.set_option('display.float_format', '{:.2f}'.format)"
   ]
  },
  {
   "cell_type": "code",
   "execution_count": 3,
   "metadata": {},
   "outputs": [],
   "source": [
    "dataset = pd.read_csv(\"dataset/Fraud.csv\")"
   ]
  },
  {
   "cell_type": "code",
   "execution_count": 29,
   "metadata": {},
   "outputs": [
    {
     "data": {
      "text/plain": [
       "step               0\n",
       "type               0\n",
       "amount             0\n",
       "nameOrig           0\n",
       "oldbalanceOrg      0\n",
       "newbalanceOrig     0\n",
       "nameDest           0\n",
       "oldbalanceDest     0\n",
       "newbalanceDest     0\n",
       "isFraud            0\n",
       "isFlaggedFraud     0\n",
       "amount_category    0\n",
       "dtype: int64"
      ]
     },
     "execution_count": 29,
     "metadata": {},
     "output_type": "execute_result"
    }
   ],
   "source": [
    "dataset.isnull().sum()"
   ]
  },
  {
   "cell_type": "code",
   "execution_count": 4,
   "metadata": {},
   "outputs": [
    {
     "data": {
      "text/plain": [
       "step                int64\n",
       "type               object\n",
       "amount            float64\n",
       "nameOrig           object\n",
       "oldbalanceOrg     float64\n",
       "newbalanceOrig    float64\n",
       "nameDest           object\n",
       "oldbalanceDest    float64\n",
       "newbalanceDest    float64\n",
       "isFraud             int64\n",
       "isFlaggedFraud      int64\n",
       "dtype: object"
      ]
     },
     "execution_count": 4,
     "metadata": {},
     "output_type": "execute_result"
    }
   ],
   "source": [
    "dataset.dtypes"
   ]
  },
  {
   "cell_type": "code",
   "execution_count": 5,
   "metadata": {},
   "outputs": [],
   "source": [
    "dataset_texto = dataset[['type', 'nameOrig' , 'nameDest']]"
   ]
  },
  {
   "cell_type": "code",
   "execution_count": 6,
   "metadata": {},
   "outputs": [],
   "source": [
    "dataset_numeros = dataset[\n",
    "        ['step', 'amount' , 'oldbalanceOrg', 'newbalanceOrig', 'oldbalanceDest', 'newbalanceDest', 'isFraud', 'isFlaggedFraud']\n",
    "    ]"
   ]
  },
  {
   "cell_type": "code",
   "execution_count": 7,
   "metadata": {},
   "outputs": [
    {
     "data": {
      "text/html": [
       "<div>\n",
       "<style scoped>\n",
       "    .dataframe tbody tr th:only-of-type {\n",
       "        vertical-align: middle;\n",
       "    }\n",
       "\n",
       "    .dataframe tbody tr th {\n",
       "        vertical-align: top;\n",
       "    }\n",
       "\n",
       "    .dataframe thead th {\n",
       "        text-align: right;\n",
       "    }\n",
       "</style>\n",
       "<table border=\"1\" class=\"dataframe\">\n",
       "  <thead>\n",
       "    <tr style=\"text-align: right;\">\n",
       "      <th></th>\n",
       "      <th>type</th>\n",
       "      <th>nameOrig</th>\n",
       "      <th>nameDest</th>\n",
       "    </tr>\n",
       "  </thead>\n",
       "  <tbody>\n",
       "    <tr>\n",
       "      <th>count</th>\n",
       "      <td>6362620</td>\n",
       "      <td>6362620</td>\n",
       "      <td>6362620</td>\n",
       "    </tr>\n",
       "    <tr>\n",
       "      <th>unique</th>\n",
       "      <td>5</td>\n",
       "      <td>6353307</td>\n",
       "      <td>2722362</td>\n",
       "    </tr>\n",
       "    <tr>\n",
       "      <th>top</th>\n",
       "      <td>CASH_OUT</td>\n",
       "      <td>C1902386530</td>\n",
       "      <td>C1286084959</td>\n",
       "    </tr>\n",
       "    <tr>\n",
       "      <th>freq</th>\n",
       "      <td>2237500</td>\n",
       "      <td>3</td>\n",
       "      <td>113</td>\n",
       "    </tr>\n",
       "  </tbody>\n",
       "</table>\n",
       "</div>"
      ],
      "text/plain": [
       "            type     nameOrig     nameDest\n",
       "count    6362620      6362620      6362620\n",
       "unique         5      6353307      2722362\n",
       "top     CASH_OUT  C1902386530  C1286084959\n",
       "freq     2237500            3          113"
      ]
     },
     "execution_count": 7,
     "metadata": {},
     "output_type": "execute_result"
    }
   ],
   "source": [
    "dataset_texto.describe()"
   ]
  },
  {
   "cell_type": "code",
   "execution_count": 8,
   "metadata": {},
   "outputs": [
    {
     "data": {
      "text/html": [
       "<div>\n",
       "<style scoped>\n",
       "    .dataframe tbody tr th:only-of-type {\n",
       "        vertical-align: middle;\n",
       "    }\n",
       "\n",
       "    .dataframe tbody tr th {\n",
       "        vertical-align: top;\n",
       "    }\n",
       "\n",
       "    .dataframe thead th {\n",
       "        text-align: right;\n",
       "    }\n",
       "</style>\n",
       "<table border=\"1\" class=\"dataframe\">\n",
       "  <thead>\n",
       "    <tr style=\"text-align: right;\">\n",
       "      <th></th>\n",
       "      <th>step</th>\n",
       "      <th>amount</th>\n",
       "      <th>oldbalanceOrg</th>\n",
       "      <th>newbalanceOrig</th>\n",
       "      <th>oldbalanceDest</th>\n",
       "      <th>newbalanceDest</th>\n",
       "      <th>isFraud</th>\n",
       "      <th>isFlaggedFraud</th>\n",
       "    </tr>\n",
       "  </thead>\n",
       "  <tbody>\n",
       "    <tr>\n",
       "      <th>count</th>\n",
       "      <td>6362620.00</td>\n",
       "      <td>6362620.00</td>\n",
       "      <td>6362620.00</td>\n",
       "      <td>6362620.00</td>\n",
       "      <td>6362620.00</td>\n",
       "      <td>6362620.00</td>\n",
       "      <td>6362620.00</td>\n",
       "      <td>6362620.00</td>\n",
       "    </tr>\n",
       "    <tr>\n",
       "      <th>mean</th>\n",
       "      <td>243.40</td>\n",
       "      <td>179861.90</td>\n",
       "      <td>833883.10</td>\n",
       "      <td>855113.67</td>\n",
       "      <td>1100701.67</td>\n",
       "      <td>1224996.40</td>\n",
       "      <td>0.00</td>\n",
       "      <td>0.00</td>\n",
       "    </tr>\n",
       "    <tr>\n",
       "      <th>std</th>\n",
       "      <td>142.33</td>\n",
       "      <td>603858.23</td>\n",
       "      <td>2888242.67</td>\n",
       "      <td>2924048.50</td>\n",
       "      <td>3399180.11</td>\n",
       "      <td>3674128.94</td>\n",
       "      <td>0.04</td>\n",
       "      <td>0.00</td>\n",
       "    </tr>\n",
       "    <tr>\n",
       "      <th>min</th>\n",
       "      <td>1.00</td>\n",
       "      <td>0.00</td>\n",
       "      <td>0.00</td>\n",
       "      <td>0.00</td>\n",
       "      <td>0.00</td>\n",
       "      <td>0.00</td>\n",
       "      <td>0.00</td>\n",
       "      <td>0.00</td>\n",
       "    </tr>\n",
       "    <tr>\n",
       "      <th>25%</th>\n",
       "      <td>156.00</td>\n",
       "      <td>13389.57</td>\n",
       "      <td>0.00</td>\n",
       "      <td>0.00</td>\n",
       "      <td>0.00</td>\n",
       "      <td>0.00</td>\n",
       "      <td>0.00</td>\n",
       "      <td>0.00</td>\n",
       "    </tr>\n",
       "    <tr>\n",
       "      <th>50%</th>\n",
       "      <td>239.00</td>\n",
       "      <td>74871.94</td>\n",
       "      <td>14208.00</td>\n",
       "      <td>0.00</td>\n",
       "      <td>132705.66</td>\n",
       "      <td>214661.44</td>\n",
       "      <td>0.00</td>\n",
       "      <td>0.00</td>\n",
       "    </tr>\n",
       "    <tr>\n",
       "      <th>75%</th>\n",
       "      <td>335.00</td>\n",
       "      <td>208721.48</td>\n",
       "      <td>107315.18</td>\n",
       "      <td>144258.41</td>\n",
       "      <td>943036.71</td>\n",
       "      <td>1111909.25</td>\n",
       "      <td>0.00</td>\n",
       "      <td>0.00</td>\n",
       "    </tr>\n",
       "    <tr>\n",
       "      <th>max</th>\n",
       "      <td>743.00</td>\n",
       "      <td>92445516.64</td>\n",
       "      <td>59585040.37</td>\n",
       "      <td>49585040.37</td>\n",
       "      <td>356015889.35</td>\n",
       "      <td>356179278.92</td>\n",
       "      <td>1.00</td>\n",
       "      <td>1.00</td>\n",
       "    </tr>\n",
       "  </tbody>\n",
       "</table>\n",
       "</div>"
      ],
      "text/plain": [
       "            step      amount  oldbalanceOrg  newbalanceOrig  oldbalanceDest  \\\n",
       "count 6362620.00  6362620.00     6362620.00      6362620.00      6362620.00   \n",
       "mean      243.40   179861.90      833883.10       855113.67      1100701.67   \n",
       "std       142.33   603858.23     2888242.67      2924048.50      3399180.11   \n",
       "min         1.00        0.00           0.00            0.00            0.00   \n",
       "25%       156.00    13389.57           0.00            0.00            0.00   \n",
       "50%       239.00    74871.94       14208.00            0.00       132705.66   \n",
       "75%       335.00   208721.48      107315.18       144258.41       943036.71   \n",
       "max       743.00 92445516.64    59585040.37     49585040.37    356015889.35   \n",
       "\n",
       "       newbalanceDest    isFraud  isFlaggedFraud  \n",
       "count      6362620.00 6362620.00      6362620.00  \n",
       "mean       1224996.40       0.00            0.00  \n",
       "std        3674128.94       0.04            0.00  \n",
       "min              0.00       0.00            0.00  \n",
       "25%              0.00       0.00            0.00  \n",
       "50%         214661.44       0.00            0.00  \n",
       "75%        1111909.25       0.00            0.00  \n",
       "max      356179278.92       1.00            1.00  "
      ]
     },
     "execution_count": 8,
     "metadata": {},
     "output_type": "execute_result"
    }
   ],
   "source": [
    "dataset_numeros.describe()"
   ]
  },
  {
   "cell_type": "code",
   "execution_count": 9,
   "metadata": {},
   "outputs": [
    {
     "data": {
      "text/plain": [
       "CASH_OUT    2237500\n",
       "PAYMENT     2151495\n",
       "CASH_IN     1399284\n",
       "TRANSFER     532909\n",
       "DEBIT         41432\n",
       "Name: type, dtype: int64"
      ]
     },
     "execution_count": 9,
     "metadata": {},
     "output_type": "execute_result"
    }
   ],
   "source": [
    "dataset_texto['type'].value_counts()"
   ]
  },
  {
   "cell_type": "code",
   "execution_count": 10,
   "metadata": {},
   "outputs": [
    {
     "data": {
      "image/png": "[encoded data removed]",
      "text/plain": [
       "<Figure size 800x600 with 1 Axes>"
      ]
     },
     "metadata": {},
     "output_type": "display_data"
    }
   ],
   "source": [
    "# Contagem das categorias 'type'\n",
    "type_counts = dataset_texto['type'].value_counts()\n",
    "\n",
    "# Plotar gráfico de barras\n",
    "plt.figure(figsize=(8, 6))  # Definir tamanho da figura\n",
    "bars = plt.bar(type_counts.index, type_counts.values)  # Plotar barras\n",
    "plt.xlabel('Tipo de Transação')  # Definir rótulo do eixo x\n",
    "plt.ylabel('Contagem')  # Definir rótulo do eixo y\n",
    "plt.title('Contagem de Tipos de Transação')  # Definir título do gráfico\n",
    "\n",
    "# Personalizar eixo x para evitar rotação dos rótulos\n",
    "plt.xticks(rotation=45, ha='right')\n",
    "\n",
    "# Adicionar rótulos nas barras com separador de milhar\n",
    "for bar in bars:\n",
    "    height = bar.get_height()\n",
    "    plt.text(bar.get_x() + bar.get_width() / 2, height, f'{height:,.0f}', ha='center', va='bottom')\n",
    "\n",
    "# Ajustar escala do eixo y\n",
    "plt.ylim(0, type_counts.max() * 1.1)\n",
    "\n",
    "# Adicionar separador de milhar no eixo y\n",
    "plt.gca().get_yaxis().set_major_formatter(ticker.StrMethodFormatter('{x:,.0f}'))\n",
    "\n",
    "# Exibir o gráfico\n",
    "plt.show()"
   ]
  },
  {
   "cell_type": "code",
   "execution_count": 11,
   "metadata": {},
   "outputs": [
    {
     "data": {
      "image/png": "[encoded data removed]",
      "text/plain": [
       "<Figure size 800x600 with 1 Axes>"
      ]
     },
     "metadata": {},
     "output_type": "display_data"
    }
   ],
   "source": [
    "# Filtrar o dataset original com base na coluna 'isFraud'\n",
    "dataset_frauds = dataset[dataset['isFraud'] == 1]\n",
    "\n",
    "# Contagem das categorias 'type' no dataset filtrado\n",
    "type_counts_frauds = dataset_frauds['type'].value_counts()\n",
    "\n",
    "# Plotar gráfico de barras\n",
    "plt.figure(figsize=(8, 6))  # Definir tamanho da figura\n",
    "bars = plt.bar(type_counts_frauds.index, type_counts_frauds.values)  # Plotar barras\n",
    "plt.xlabel('Tipo de Transação')  # Definir rótulo do eixo x\n",
    "plt.ylabel('Contagem')  # Definir rótulo do eixo y\n",
    "plt.title('Contagem de Tipos de Transação (Fraudes)')  # Definir título do gráfico\n",
    "\n",
    "# Personalizar eixo x para evitar rotação dos rótulos\n",
    "plt.xticks(rotation=45, ha='right')\n",
    "\n",
    "# Adicionar rótulos nas barras com separador de milhar\n",
    "for bar in bars:\n",
    "    height = bar.get_height()\n",
    "    plt.text(bar.get_x() + bar.get_width() / 2, height, f'{height:,.0f}', ha='center', va='bottom')\n",
    "\n",
    "# Ajustar escala do eixo y\n",
    "plt.ylim(0, type_counts_frauds.max() * 1.1)\n",
    "\n",
    "# Adicionar separador de milhar no eixo y\n",
    "plt.gca().get_yaxis().set_major_formatter(ticker.StrMethodFormatter('{x:,.0f}'))\n",
    "\n",
    "# Exibir o gráfico\n",
    "plt.show()"
   ]
  },
  {
   "cell_type": "code",
   "execution_count": 16,
   "metadata": {},
   "outputs": [
    {
     "data": {
      "text/plain": [
       "<Figure size 600x600 with 0 Axes>"
      ]
     },
     "metadata": {},
     "output_type": "display_data"
    },
    {
     "data": {
      "image/png": "[encoded data removed]",
      "text/plain": [
       "<Figure size 600x600 with 1 Axes>"
      ]
     },
     "metadata": {},
     "output_type": "display_data"
    }
   ],
   "source": [
    "# Contagem das ocorrências de fraudes e não fraudes\n",
    "fraud_count = dataset['isFraud'].value_counts()\n",
    "\n",
    "# Criar uma lista com as contagens\n",
    "count_list = [fraud_count[1], fraud_count[0]]\n",
    "# Definir os rótulos para o gráfico\n",
    "labels = ['Fraude', 'Não Fraude']\n",
    "\n",
    "# Definir as cores das fatias\n",
    "colors = ['#FF0000', '#1f77b4']  # Vermelho para fraude, azul para não fraude\n",
    "\n",
    "# Plotar o gráfico de pizza\n",
    "plt.figure(figsize=(6, 6))  # Definir tamanho da figura\n",
    "plt.figure(figsize=(6, 6))  # Definir tamanho da figura\n",
    "patches, _, text = plt.pie(count_list, labels=labels, autopct='%1.1f%%', startangle=90, colors=colors,\n",
    "                           textprops={'color': 'white', 'fontsize': 12})\n",
    "# Adicionar título ao gráfico\n",
    "plt.title('Percentual de Fraudes e Não Fraudes')\n",
    "plt.legend()\n",
    "plt.show()"
   ]
  },
  {
   "cell_type": "code",
   "execution_count": 14,
   "metadata": {},
   "outputs": [
    {
     "data": {
      "text/plain": [
       "0    6354407\n",
       "1       8213\n",
       "Name: isFraud, dtype: int64"
      ]
     },
     "execution_count": 14,
     "metadata": {},
     "output_type": "execute_result"
    }
   ],
   "source": [
    "dataset_numeros['isFraud'].value_counts()"
   ]
  },
  {
   "cell_type": "code",
   "execution_count": 18,
   "metadata": {},
   "outputs": [
    {
     "name": "stderr",
     "output_type": "stream",
     "text": [
      "/tmp/ipykernel_80731/232249059.py:11: SettingWithCopyWarning: \n",
      "A value is trying to be set on a copy of a slice from a DataFrame.\n",
      "Try using .loc[row_indexer,col_indexer] = value instead\n",
      "\n",
      "See the caveats in the documentation: https://pandas.pydata.org/pandas-docs/stable/user_guide/indexing.html#returning-a-view-versus-a-copy\n",
      "  dataset_numeros['type_num'] = dataset['type'].map(type_mapping)\n"
     ]
    },
    {
     "data": {
      "text/html": [
       "<div>\n",
       "<style scoped>\n",
       "    .dataframe tbody tr th:only-of-type {\n",
       "        vertical-align: middle;\n",
       "    }\n",
       "\n",
       "    .dataframe tbody tr th {\n",
       "        vertical-align: top;\n",
       "    }\n",
       "\n",
       "    .dataframe thead th {\n",
       "        text-align: right;\n",
       "    }\n",
       "</style>\n",
       "<table border=\"1\" class=\"dataframe\">\n",
       "  <thead>\n",
       "    <tr style=\"text-align: right;\">\n",
       "      <th></th>\n",
       "      <th>step</th>\n",
       "      <th>amount</th>\n",
       "      <th>oldbalanceOrg</th>\n",
       "      <th>newbalanceOrig</th>\n",
       "      <th>oldbalanceDest</th>\n",
       "      <th>newbalanceDest</th>\n",
       "      <th>isFraud</th>\n",
       "      <th>isFlaggedFraud</th>\n",
       "      <th>type_num</th>\n",
       "    </tr>\n",
       "  </thead>\n",
       "  <tbody>\n",
       "    <tr>\n",
       "      <th>0</th>\n",
       "      <td>1</td>\n",
       "      <td>9839.64</td>\n",
       "      <td>170136.00</td>\n",
       "      <td>160296.36</td>\n",
       "      <td>0.00</td>\n",
       "      <td>0.00</td>\n",
       "      <td>0</td>\n",
       "      <td>0</td>\n",
       "      <td>1</td>\n",
       "    </tr>\n",
       "    <tr>\n",
       "      <th>1</th>\n",
       "      <td>1</td>\n",
       "      <td>1864.28</td>\n",
       "      <td>21249.00</td>\n",
       "      <td>19384.72</td>\n",
       "      <td>0.00</td>\n",
       "      <td>0.00</td>\n",
       "      <td>0</td>\n",
       "      <td>0</td>\n",
       "      <td>1</td>\n",
       "    </tr>\n",
       "    <tr>\n",
       "      <th>2</th>\n",
       "      <td>1</td>\n",
       "      <td>181.00</td>\n",
       "      <td>181.00</td>\n",
       "      <td>0.00</td>\n",
       "      <td>0.00</td>\n",
       "      <td>0.00</td>\n",
       "      <td>1</td>\n",
       "      <td>0</td>\n",
       "      <td>3</td>\n",
       "    </tr>\n",
       "    <tr>\n",
       "      <th>3</th>\n",
       "      <td>1</td>\n",
       "      <td>181.00</td>\n",
       "      <td>181.00</td>\n",
       "      <td>0.00</td>\n",
       "      <td>21182.00</td>\n",
       "      <td>0.00</td>\n",
       "      <td>1</td>\n",
       "      <td>0</td>\n",
       "      <td>0</td>\n",
       "    </tr>\n",
       "    <tr>\n",
       "      <th>4</th>\n",
       "      <td>1</td>\n",
       "      <td>11668.14</td>\n",
       "      <td>41554.00</td>\n",
       "      <td>29885.86</td>\n",
       "      <td>0.00</td>\n",
       "      <td>0.00</td>\n",
       "      <td>0</td>\n",
       "      <td>0</td>\n",
       "      <td>1</td>\n",
       "    </tr>\n",
       "  </tbody>\n",
       "</table>\n",
       "</div>"
      ],
      "text/plain": [
       "   step   amount  oldbalanceOrg  newbalanceOrig  oldbalanceDest  \\\n",
       "0     1  9839.64      170136.00       160296.36            0.00   \n",
       "1     1  1864.28       21249.00        19384.72            0.00   \n",
       "2     1   181.00         181.00            0.00            0.00   \n",
       "3     1   181.00         181.00            0.00        21182.00   \n",
       "4     1 11668.14       41554.00        29885.86            0.00   \n",
       "\n",
       "   newbalanceDest  isFraud  isFlaggedFraud  type_num  \n",
       "0            0.00        0               0         1  \n",
       "1            0.00        0               0         1  \n",
       "2            0.00        1               0         3  \n",
       "3            0.00        1               0         0  \n",
       "4            0.00        0               0         1  "
      ]
     },
     "execution_count": 18,
     "metadata": {},
     "output_type": "execute_result"
    }
   ],
   "source": [
    "# Mapear as categorias do tipo \"type\" para valores numéricos\n",
    "type_mapping = {\n",
    "    'CASH_OUT': 0,\n",
    "    'PAYMENT': 1,\n",
    "    'CASH_IN': 2,\n",
    "    'TRANSFER': 3,\n",
    "    'DEBIT': 4\n",
    "}\n",
    "\n",
    "# Criar a coluna \"type_num\" no dataset numérico\n",
    "dataset_numeros['type_num'] = dataset['type'].map(type_mapping)\n",
    "\n",
    "# Exibir o dataset com a nova coluna\n",
    "dataset_numeros.head()\n"
   ]
  },
  {
   "cell_type": "code",
   "execution_count": 19,
   "metadata": {},
   "outputs": [
    {
     "data": {
      "text/plain": [
       "0    2237500\n",
       "1    2151495\n",
       "2    1399284\n",
       "3     532909\n",
       "4      41432\n",
       "Name: type_num, dtype: int64"
      ]
     },
     "execution_count": 19,
     "metadata": {},
     "output_type": "execute_result"
    }
   ],
   "source": [
    "dataset_numeros['type_num'].value_counts()"
   ]
  },
  {
   "cell_type": "code",
   "execution_count": 40,
   "metadata": {},
   "outputs": [
    {
     "data": {
      "text/html": [
       "<div>\n",
       "<style scoped>\n",
       "    .dataframe tbody tr th:only-of-type {\n",
       "        vertical-align: middle;\n",
       "    }\n",
       "\n",
       "    .dataframe tbody tr th {\n",
       "        vertical-align: top;\n",
       "    }\n",
       "\n",
       "    .dataframe thead th {\n",
       "        text-align: right;\n",
       "    }\n",
       "</style>\n",
       "<table border=\"1\" class=\"dataframe\">\n",
       "  <thead>\n",
       "    <tr style=\"text-align: right;\">\n",
       "      <th></th>\n",
       "      <th>step</th>\n",
       "      <th>amount</th>\n",
       "      <th>oldbalanceOrg</th>\n",
       "      <th>newbalanceOrig</th>\n",
       "      <th>oldbalanceDest</th>\n",
       "      <th>newbalanceDest</th>\n",
       "      <th>isFraud</th>\n",
       "      <th>isFlaggedFraud</th>\n",
       "      <th>type_num</th>\n",
       "      <th>amount_category</th>\n",
       "    </tr>\n",
       "  </thead>\n",
       "  <tbody>\n",
       "    <tr>\n",
       "      <th>step</th>\n",
       "      <td>1.00</td>\n",
       "      <td>0.02</td>\n",
       "      <td>-0.01</td>\n",
       "      <td>-0.01</td>\n",
       "      <td>0.03</td>\n",
       "      <td>0.03</td>\n",
       "      <td>0.03</td>\n",
       "      <td>0.00</td>\n",
       "      <td>0.01</td>\n",
       "      <td>0.00</td>\n",
       "    </tr>\n",
       "    <tr>\n",
       "      <th>amount</th>\n",
       "      <td>0.02</td>\n",
       "      <td>1.00</td>\n",
       "      <td>-0.00</td>\n",
       "      <td>-0.01</td>\n",
       "      <td>0.29</td>\n",
       "      <td>0.46</td>\n",
       "      <td>0.08</td>\n",
       "      <td>0.01</td>\n",
       "      <td>0.20</td>\n",
       "      <td>0.52</td>\n",
       "    </tr>\n",
       "    <tr>\n",
       "      <th>oldbalanceOrg</th>\n",
       "      <td>-0.01</td>\n",
       "      <td>-0.00</td>\n",
       "      <td>1.00</td>\n",
       "      <td>1.00</td>\n",
       "      <td>0.07</td>\n",
       "      <td>0.04</td>\n",
       "      <td>0.01</td>\n",
       "      <td>0.00</td>\n",
       "      <td>0.26</td>\n",
       "      <td>0.05</td>\n",
       "    </tr>\n",
       "    <tr>\n",
       "      <th>newbalanceOrig</th>\n",
       "      <td>-0.01</td>\n",
       "      <td>-0.01</td>\n",
       "      <td>1.00</td>\n",
       "      <td>1.00</td>\n",
       "      <td>0.07</td>\n",
       "      <td>0.04</td>\n",
       "      <td>-0.01</td>\n",
       "      <td>0.00</td>\n",
       "      <td>0.27</td>\n",
       "      <td>0.05</td>\n",
       "    </tr>\n",
       "    <tr>\n",
       "      <th>oldbalanceDest</th>\n",
       "      <td>0.03</td>\n",
       "      <td>0.29</td>\n",
       "      <td>0.07</td>\n",
       "      <td>0.07</td>\n",
       "      <td>1.00</td>\n",
       "      <td>0.98</td>\n",
       "      <td>-0.01</td>\n",
       "      <td>-0.00</td>\n",
       "      <td>0.07</td>\n",
       "      <td>0.23</td>\n",
       "    </tr>\n",
       "    <tr>\n",
       "      <th>newbalanceDest</th>\n",
       "      <td>0.03</td>\n",
       "      <td>0.46</td>\n",
       "      <td>0.04</td>\n",
       "      <td>0.04</td>\n",
       "      <td>0.98</td>\n",
       "      <td>1.00</td>\n",
       "      <td>0.00</td>\n",
       "      <td>-0.00</td>\n",
       "      <td>0.08</td>\n",
       "      <td>0.29</td>\n",
       "    </tr>\n",
       "    <tr>\n",
       "      <th>isFraud</th>\n",
       "      <td>0.03</td>\n",
       "      <td>0.08</td>\n",
       "      <td>0.01</td>\n",
       "      <td>-0.01</td>\n",
       "      <td>-0.01</td>\n",
       "      <td>0.00</td>\n",
       "      <td>1.00</td>\n",
       "      <td>0.04</td>\n",
       "      <td>0.02</td>\n",
       "      <td>0.06</td>\n",
       "    </tr>\n",
       "    <tr>\n",
       "      <th>isFlaggedFraud</th>\n",
       "      <td>0.00</td>\n",
       "      <td>0.01</td>\n",
       "      <td>0.00</td>\n",
       "      <td>0.00</td>\n",
       "      <td>-0.00</td>\n",
       "      <td>-0.00</td>\n",
       "      <td>0.04</td>\n",
       "      <td>1.00</td>\n",
       "      <td>0.00</td>\n",
       "      <td>0.01</td>\n",
       "    </tr>\n",
       "    <tr>\n",
       "      <th>type_num</th>\n",
       "      <td>0.01</td>\n",
       "      <td>0.20</td>\n",
       "      <td>0.26</td>\n",
       "      <td>0.27</td>\n",
       "      <td>0.07</td>\n",
       "      <td>0.08</td>\n",
       "      <td>0.02</td>\n",
       "      <td>0.00</td>\n",
       "      <td>1.00</td>\n",
       "      <td>0.23</td>\n",
       "    </tr>\n",
       "    <tr>\n",
       "      <th>amount_category</th>\n",
       "      <td>0.00</td>\n",
       "      <td>0.52</td>\n",
       "      <td>0.05</td>\n",
       "      <td>0.05</td>\n",
       "      <td>0.23</td>\n",
       "      <td>0.29</td>\n",
       "      <td>0.06</td>\n",
       "      <td>0.01</td>\n",
       "      <td>0.23</td>\n",
       "      <td>1.00</td>\n",
       "    </tr>\n",
       "  </tbody>\n",
       "</table>\n",
       "</div>"
      ],
      "text/plain": [
       "                 step  amount  oldbalanceOrg  newbalanceOrig  oldbalanceDest  \\\n",
       "step             1.00    0.02          -0.01           -0.01            0.03   \n",
       "amount           0.02    1.00          -0.00           -0.01            0.29   \n",
       "oldbalanceOrg   -0.01   -0.00           1.00            1.00            0.07   \n",
       "newbalanceOrig  -0.01   -0.01           1.00            1.00            0.07   \n",
       "oldbalanceDest   0.03    0.29           0.07            0.07            1.00   \n",
       "newbalanceDest   0.03    0.46           0.04            0.04            0.98   \n",
       "isFraud          0.03    0.08           0.01           -0.01           -0.01   \n",
       "isFlaggedFraud   0.00    0.01           0.00            0.00           -0.00   \n",
       "type_num         0.01    0.20           0.26            0.27            0.07   \n",
       "amount_category  0.00    0.52           0.05            0.05            0.23   \n",
       "\n",
       "                 newbalanceDest  isFraud  isFlaggedFraud  type_num  \\\n",
       "step                       0.03     0.03            0.00      0.01   \n",
       "amount                     0.46     0.08            0.01      0.20   \n",
       "oldbalanceOrg              0.04     0.01            0.00      0.26   \n",
       "newbalanceOrig             0.04    -0.01            0.00      0.27   \n",
       "oldbalanceDest             0.98    -0.01           -0.00      0.07   \n",
       "newbalanceDest             1.00     0.00           -0.00      0.08   \n",
       "isFraud                    0.00     1.00            0.04      0.02   \n",
       "isFlaggedFraud            -0.00     0.04            1.00      0.00   \n",
       "type_num                   0.08     0.02            0.00      1.00   \n",
       "amount_category            0.29     0.06            0.01      0.23   \n",
       "\n",
       "                 amount_category  \n",
       "step                        0.00  \n",
       "amount                      0.52  \n",
       "oldbalanceOrg               0.05  \n",
       "newbalanceOrig              0.05  \n",
       "oldbalanceDest              0.23  \n",
       "newbalanceDest              0.29  \n",
       "isFraud                     0.06  \n",
       "isFlaggedFraud              0.01  \n",
       "type_num                    0.23  \n",
       "amount_category             1.00  "
      ]
     },
     "execution_count": 40,
     "metadata": {},
     "output_type": "execute_result"
    }
   ],
   "source": [
    "dataset_numeros.corr()"
   ]
  },
  {
   "cell_type": "code",
   "execution_count": 21,
   "metadata": {},
   "outputs": [
    {
     "data": {
      "text/plain": [
       "count    6362620.00\n",
       "mean      179861.90\n",
       "std       603858.23\n",
       "min            0.00\n",
       "25%        13389.57\n",
       "50%        74871.94\n",
       "75%       208721.48\n",
       "max     92445516.64\n",
       "Name: amount, dtype: float64"
      ]
     },
     "execution_count": 21,
     "metadata": {},
     "output_type": "execute_result"
    }
   ],
   "source": [
    "dataset_numeros['amount'].describe()"
   ]
  },
  {
   "cell_type": "code",
   "execution_count": 27,
   "metadata": {},
   "outputs": [
    {
     "name": "stderr",
     "output_type": "stream",
     "text": [
      "/tmp/ipykernel_80731/2570033568.py:18: SettingWithCopyWarning: \n",
      "A value is trying to be set on a copy of a slice from a DataFrame.\n",
      "Try using .loc[row_indexer,col_indexer] = value instead\n",
      "\n",
      "See the caveats in the documentation: https://pandas.pydata.org/pandas-docs/stable/user_guide/indexing.html#returning-a-view-versus-a-copy\n",
      "  dataset_numeros['amount_category'] = dataset_numeros['amount'].apply(assign_category)\n",
      "/tmp/ipykernel_80731/2570033568.py:22: SettingWithCopyWarning: \n",
      "A value is trying to be set on a copy of a slice from a DataFrame.\n",
      "Try using .loc[row_indexer,col_indexer] = value instead\n",
      "\n",
      "See the caveats in the documentation: https://pandas.pydata.org/pandas-docs/stable/user_guide/indexing.html#returning-a-view-versus-a-copy\n",
      "  dataset_texto['amount_category'] = dataset_numeros['amount_category'].apply(lambda x: faixas[x][2])\n"
     ]
    }
   ],
   "source": [
    "# Definir as faixas de valores e os rótulos\n",
    "faixas = [\n",
    "    (0, 100000, 'Faixa 1'),\n",
    "    (100000, 500000, 'Faixa 2'),\n",
    "    (500000, 1000000, 'Faixa 3'),\n",
    "    (1000000, 10000000, 'Faixa 4'),\n",
    "    (10000000, float('inf'), 'Faixa 5')\n",
    "]\n",
    "\n",
    "# Função para atribuir a categoria com base no valor\n",
    "def assign_category(amount):\n",
    "    for i, faixa in enumerate(faixas):\n",
    "        if faixa[0] <= amount < faixa[1]:\n",
    "            return i\n",
    "    return None\n",
    "\n",
    "# Criar a coluna \"amount_category\" com as faixas de valores no dataset numérico\n",
    "dataset_numeros['amount_category'] = dataset_numeros['amount'].apply(assign_category)\n",
    "\n",
    "# Adicionar o nome da faixa ao dataset original e de texto\n",
    "dataset['amount_category'] = dataset_numeros['amount_category'].apply(lambda x: faixas[x][2])\n",
    "dataset_texto['amount_category'] = dataset_numeros['amount_category'].apply(lambda x: faixas[x][2])\n",
    "\n"
   ]
  },
  {
   "cell_type": "code",
   "execution_count": 28,
   "metadata": {},
   "outputs": [
    {
     "data": {
      "text/plain": [
       "Faixa 1    3525256\n",
       "Faixa 2    2497080\n",
       "Faixa 3     209658\n",
       "Faixa 4     124976\n",
       "Faixa 5       5650\n",
       "Name: amount_category, dtype: int64"
      ]
     },
     "execution_count": 28,
     "metadata": {},
     "output_type": "execute_result"
    }
   ],
   "source": [
    "dataset['amount_category'].value_counts()"
   ]
  },
  {
   "cell_type": "code",
   "execution_count": 30,
   "metadata": {},
   "outputs": [
    {
     "data": {
      "text/plain": [
       "amount_category\n",
       "Faixa 1    95508516355.60\n",
       "Faixa 2   575328919322.12\n",
       "Faixa 3   139791983281.64\n",
       "Faixa 4   253556603423.81\n",
       "Faixa 5    80206922376.60\n",
       "Name: amount, dtype: float64"
      ]
     },
     "execution_count": 30,
     "metadata": {},
     "output_type": "execute_result"
    }
   ],
   "source": [
    "dataset.groupby('amount_category')['amount'].sum()"
   ]
  },
  {
   "cell_type": "code",
   "execution_count": 33,
   "metadata": {},
   "outputs": [
    {
     "data": {
      "text/plain": [
       "amount_category\n",
       "Faixa 1     73020052.09\n",
       "Faixa 2    681369887.63\n",
       "Faixa 3    841303179.17\n",
       "Faixa 4   7590722308.95\n",
       "Faixa 5   2870000000.00\n",
       "Name: amount, dtype: float64"
      ]
     },
     "execution_count": 33,
     "metadata": {},
     "output_type": "execute_result"
    }
   ],
   "source": [
    "# Filtrar o dataset original pelo valor de 'isFraud' igual a 1\n",
    "dataset_fraude = dataset[dataset['isFraud'] == 1]\n",
    "\n",
    "# Agrupar o dataset de fraudes pela coluna 'amount_category' e calcular a soma e contagem das transações\n",
    "dataset_fraude.groupby('amount_category')['amount'].sum()\n",
    "\n"
   ]
  },
  {
   "cell_type": "code",
   "execution_count": 34,
   "metadata": {},
   "outputs": [
    {
     "data": {
      "text/plain": [
       "amount_category\n",
       "Faixa 1    1707\n",
       "Faixa 2    2642\n",
       "Faixa 3    1158\n",
       "Faixa 4    2419\n",
       "Faixa 5     287\n",
       "Name: amount, dtype: int64"
      ]
     },
     "execution_count": 34,
     "metadata": {},
     "output_type": "execute_result"
    }
   ],
   "source": [
    "dataset_fraude.groupby('amount_category')['amount'].count()\n"
   ]
  },
  {
   "cell_type": "code",
   "execution_count": 39,
   "metadata": {},
   "outputs": [
    {
     "data": {
      "image/png": "[encoded data removed]",
      "text/plain": [
       "<Figure size 640x480 with 1 Axes>"
      ]
     },
     "metadata": {},
     "output_type": "display_data"
    },
    {
     "data": {
      "image/png": "[encoded data removed]",
      "text/plain": [
       "<Figure size 640x480 with 1 Axes>"
      ]
     },
     "metadata": {},
     "output_type": "display_data"
    }
   ],
   "source": [
    "# Filtrar o dataset original para obter o dataset sem as fraudes\n",
    "dataset_no_fraud = dataset[dataset['isFraud'] == 0]\n",
    "\n",
    "# Obter a contagem de transações por faixa de transações para o dataset de fraudes\n",
    "contagem_por_faixa_fraude = dataset_fraude['amount_category'].value_counts()\n",
    "\n",
    "# Obter a contagem de transações por faixa de transações para o dataset normal sem as fraudes\n",
    "contagem_por_faixa_normal = dataset_no_fraud['amount_category'].value_counts()\n",
    "\n",
    "# Configurar os rótulos das faixas de transações\n",
    "labels = contagem_por_faixa_fraude.index\n",
    "\n",
    "# Configurar os valores para o dataset de fraudes e para o dataset normal sem as fraudes\n",
    "fraude_values = contagem_por_faixa_fraude.values\n",
    "normal_values = contagem_por_faixa_normal.values\n",
    "\n",
    "# Criar a figura e os eixos do primeiro gráfico de pizza para o dataset de fraudes\n",
    "fig1, ax1 = plt.subplots()\n",
    "ax1.pie(fraude_values, labels=labels, autopct='%1.1f%%', colors=['red', 'blue', 'green', 'yellow', 'purple'])\n",
    "ax1.set_title('Distribuição Percentual de Transações por Faixa (Fraudes)')\n",
    "\n",
    "# Criar a figura e os eixos do segundo gráfico de pizza para o dataset normal sem as fraudes\n",
    "fig2, ax2 = plt.subplots()\n",
    "ax2.pie(normal_values, labels=labels, autopct='%1.1f%%', colors=['red', 'blue', 'green', 'yellow', 'purple'])\n",
    "ax2.set_title('Distribuição Percentual de Transações por Faixa (Normal)')\n",
    "\n",
    "# Exibir os gráficos de pizza\n",
    "plt.show()\n"
   ]
  },
  {
   "cell_type": "code",
   "execution_count": 49,
   "metadata": {},
   "outputs": [
    {
     "data": {
      "text/plain": [
       "type\n",
       "CASH_OUT   1455102.59\n",
       "TRANSFER   1480891.67\n",
       "Name: amount, dtype: float64"
      ]
     },
     "execution_count": 49,
     "metadata": {},
     "output_type": "execute_result"
    }
   ],
   "source": [
    "# Calcular a média do amount para as transações de fraude (isFraud = 1)\n",
    "dataset[dataset['isFraud'] == 1].groupby('type')['amount'].mean()"
   ]
  },
  {
   "cell_type": "code",
   "execution_count": 50,
   "metadata": {},
   "outputs": [
    {
     "data": {
      "text/plain": [
       "type\n",
       "CASH_IN    168920.24\n",
       "CASH_OUT   173917.16\n",
       "DEBIT        5483.67\n",
       "PAYMENT     13057.60\n",
       "TRANSFER   906229.01\n",
       "Name: amount, dtype: float64"
      ]
     },
     "execution_count": 50,
     "metadata": {},
     "output_type": "execute_result"
    }
   ],
   "source": [
    "# Calcular a média do amount para as transações não fraudulentas (isFraud = 0)\n",
    "dataset[dataset['isFraud'] == 0].groupby('type')['amount'].mean()"
   ]
  },
  {
   "cell_type": "code",
   "execution_count": null,
   "metadata": {},
   "outputs": [],
   "source": []
  }
 ],
 "metadata": {
  "kernelspec": {
   "display_name": "base",
   "language": "python",
   "name": "python3"
  },
  "language_info": {
   "codemirror_mode": {
    "name": "ipython",
    "version": 3
   },
   "file_extension": ".py",
   "mimetype": "text/x-python",
   "name": "python",
   "nbconvert_exporter": "python",
   "pygments_lexer": "ipython3",
   "version": "3.9.13"
  },
  "orig_nbformat": 4
 },
 "nbformat": 4,
 "nbformat_minor": 2
}
